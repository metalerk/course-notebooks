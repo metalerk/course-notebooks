{
 "cells": [
  {
   "cell_type": "markdown",
   "metadata": {},
   "source": [
    "![imagenes](imagenes/pythonista-chico.png)"
   ]
  },
  {
   "cell_type": "markdown",
   "metadata": {},
   "source": [
    "# Orientación a objetos y ayuda.\n",
    "\n",
    "Python es un lenguaje que soporta múltiples paradigmas de programación. Sin embargo, todo en Python es un objeto.\n",
    "Un programador puede usar cualquier paradigma, pero puede beneficiarse de las ventajas de los objetos que ofrece Python en cualquier momento.\n",
    "\n",
    "\n",
    "## Tipos y clases.\n",
    "\n",
    "En Python todos los tipos de datos son _clases_ predefinidas.\n",
    "\n",
    "Una _clase_ es un \"prototipo\" que contiene las características y los comportamientos propios de los objetos que emanan de éstas.\n",
    "\n",
    "Cuando el intérprete de Python evalúa una declaración, éste identifica el tipo de dato con el que está tratando y crea un objeto que adquiere las caracterísiticas del tipo en cuestión, almacenando en dicho objeto los datos que el intérprete también ha identificado. A este proceso se le conoce como \"_instanciar_\" y todo objeto es instancia de una clase.\n",
    "\n",
    "## La función _isinstance()_.\n",
    "\n",
    "Para verificar si un objeto es instancia de una clase específica, se utiliza la función _isinstance()_, la cual regresará un valor booleano dependiendo si el objeto es una instancia del tipo/clase.\n",
    "\n",
    "**Ejemplo:**"
   ]
  },
  {
   "cell_type": "code",
   "execution_count": 1,
   "metadata": {},
   "outputs": [
    {
     "data": {
      "text/plain": [
       "False"
      ]
     },
     "execution_count": 1,
     "metadata": {},
     "output_type": "execute_result"
    }
   ],
   "source": [
    "isinstance(1, str)"
   ]
  },
  {
   "cell_type": "code",
   "execution_count": 2,
   "metadata": {},
   "outputs": [
    {
     "data": {
      "text/plain": [
       "True"
      ]
     },
     "execution_count": 2,
     "metadata": {},
     "output_type": "execute_result"
    }
   ],
   "source": [
    "isinstance(1, int)"
   ]
  },
  {
   "cell_type": "code",
   "execution_count": 3,
   "metadata": {},
   "outputs": [
    {
     "data": {
      "text/plain": [
       "True"
      ]
     },
     "execution_count": 3,
     "metadata": {},
     "output_type": "execute_result"
    }
   ],
   "source": [
    "isinstance(False, bool)"
   ]
  },
  {
   "cell_type": "code",
   "execution_count": 4,
   "metadata": {},
   "outputs": [
    {
     "data": {
      "text/plain": [
       "True"
      ]
     },
     "execution_count": 4,
     "metadata": {},
     "output_type": "execute_result"
    }
   ],
   "source": [
    "isinstance(False, int)"
   ]
  },
  {
   "cell_type": "markdown",
   "metadata": {},
   "source": [
    "En el ejemplo anterior se puede observar que _False_ es instancia de _bool_ y también es instancia de _int_. Esto se debe a que los booleanos en realidad sólo pueden adquirir los valores enteros 0 o 1.\n",
    "\n",
    "## Atributos y métodos.\n",
    "\n",
    "En los lenguajes de programación convencionales los atributos corresponden a los valores que puede almacenar un objeto, mientras que los métodos son bloques de código que se ejecutan cuando son invocados. En Python ocurre algo muy similar, con la diferencia de que los atributos también son objetos y no sólo valores.\n",
    "\n",
    "Tanto métodos como atributos tienen un nombre por el cual pueden ser accedidos e invocados con la siguiente sintaxis que utiliza al punto \"_._\" como \"operador de atributo\".\n",
    "\n",
    "Para acceder a un atributo se usa la siguiente sintaxis: \n",
    "\n",
    "```\n",
    "<objeto>.<nombre del atributo>\n",
    "```\n",
    "\n",
    "Para invocar a un método se usa la siguiente sintaxis:\n",
    "\n",
    "```\n",
    "<objeto>.<nombre del método>(<argumentos>)\n",
    "```\n",
    "\n",
    "__Ejemplo:__\n",
    "\n",
    " En el caso de los objetos de tipo _complex_, dichos objetos guardan el valor del componente imaginario en el atributo _imag_ y el componente real en el atributo _real_.  Del mismo modo, los objetos de tipo _complex_ pueden calcular el conjugado del número complejo mediante el método _conjugate()_.\n",
    " "
   ]
  },
  {
   "cell_type": "code",
   "execution_count": 5,
   "metadata": {},
   "outputs": [
    {
     "data": {
      "text/plain": [
       "complex"
      ]
     },
     "execution_count": 5,
     "metadata": {},
     "output_type": "execute_result"
    }
   ],
   "source": [
    "type(12.4 - 93.54j)"
   ]
  },
  {
   "cell_type": "code",
   "execution_count": 6,
   "metadata": {},
   "outputs": [
    {
     "data": {
      "text/plain": [
       "(12.4+93.54j)"
      ]
     },
     "execution_count": 6,
     "metadata": {},
     "output_type": "execute_result"
    }
   ],
   "source": [
    "(12.4 - 93.54j).conjugate()"
   ]
  },
  {
   "cell_type": "code",
   "execution_count": 7,
   "metadata": {},
   "outputs": [
    {
     "data": {
      "text/plain": [
       "-93.54"
      ]
     },
     "execution_count": 7,
     "metadata": {},
     "output_type": "execute_result"
    }
   ],
   "source": [
    "(12.4 - 93.54j).imag"
   ]
  },
  {
   "cell_type": "code",
   "execution_count": 8,
   "metadata": {},
   "outputs": [
    {
     "data": {
      "text/plain": [
       "12.4"
      ]
     },
     "execution_count": 8,
     "metadata": {},
     "output_type": "execute_result"
    }
   ],
   "source": [
    "(12.4 - 93.54j).real"
   ]
  },
  {
   "cell_type": "markdown",
   "metadata": {},
   "source": [
    "Por su parte, el atributo _imag_, es un objeto de tipo _float_ y dichos objetos cuentan con el método *\\_\\_abs\\_\\_()*, el cual calcula el valor absoluto del número que almacena."
   ]
  },
  {
   "cell_type": "code",
   "execution_count": 9,
   "metadata": {},
   "outputs": [
    {
     "data": {
      "text/plain": [
       "-93.54"
      ]
     },
     "execution_count": 9,
     "metadata": {},
     "output_type": "execute_result"
    }
   ],
   "source": [
    "(12.4 - 93.54j).imag"
   ]
  },
  {
   "cell_type": "code",
   "execution_count": 10,
   "metadata": {},
   "outputs": [
    {
     "data": {
      "text/plain": [
       "float"
      ]
     },
     "execution_count": 10,
     "metadata": {},
     "output_type": "execute_result"
    }
   ],
   "source": [
    "type((12.4 - 93.54j).imag)"
   ]
  },
  {
   "cell_type": "code",
   "execution_count": 11,
   "metadata": {},
   "outputs": [
    {
     "data": {
      "text/plain": [
       "93.54"
      ]
     },
     "execution_count": 11,
     "metadata": {},
     "output_type": "execute_result"
    }
   ],
   "source": [
    "(12.4 - 93.54j).imag.__abs__()"
   ]
  },
  {
   "cell_type": "markdown",
   "metadata": {},
   "source": [
    "### La función _dir()_ .\n",
    "\n",
    "Cada objeto contiene un espacio de nombres propio. La función _dir()_ regresa una lista de los nombres que existen en el espacio de nombres de un objeto cuando éste es usado como parámetro.\n",
    "\n",
    "**Ejemplo:** "
   ]
  },
  {
   "cell_type": "code",
   "execution_count": 12,
   "metadata": {},
   "outputs": [
    {
     "data": {
      "text/plain": [
       "['__abs__',\n",
       " '__add__',\n",
       " '__and__',\n",
       " '__bool__',\n",
       " '__ceil__',\n",
       " '__class__',\n",
       " '__delattr__',\n",
       " '__dir__',\n",
       " '__divmod__',\n",
       " '__doc__',\n",
       " '__eq__',\n",
       " '__float__',\n",
       " '__floor__',\n",
       " '__floordiv__',\n",
       " '__format__',\n",
       " '__ge__',\n",
       " '__getattribute__',\n",
       " '__getnewargs__',\n",
       " '__gt__',\n",
       " '__hash__',\n",
       " '__index__',\n",
       " '__init__',\n",
       " '__int__',\n",
       " '__invert__',\n",
       " '__le__',\n",
       " '__lshift__',\n",
       " '__lt__',\n",
       " '__mod__',\n",
       " '__mul__',\n",
       " '__ne__',\n",
       " '__neg__',\n",
       " '__new__',\n",
       " '__or__',\n",
       " '__pos__',\n",
       " '__pow__',\n",
       " '__radd__',\n",
       " '__rand__',\n",
       " '__rdivmod__',\n",
       " '__reduce__',\n",
       " '__reduce_ex__',\n",
       " '__repr__',\n",
       " '__rfloordiv__',\n",
       " '__rlshift__',\n",
       " '__rmod__',\n",
       " '__rmul__',\n",
       " '__ror__',\n",
       " '__round__',\n",
       " '__rpow__',\n",
       " '__rrshift__',\n",
       " '__rshift__',\n",
       " '__rsub__',\n",
       " '__rtruediv__',\n",
       " '__rxor__',\n",
       " '__setattr__',\n",
       " '__sizeof__',\n",
       " '__str__',\n",
       " '__sub__',\n",
       " '__subclasshook__',\n",
       " '__truediv__',\n",
       " '__trunc__',\n",
       " '__xor__',\n",
       " 'bit_length',\n",
       " 'conjugate',\n",
       " 'denominator',\n",
       " 'from_bytes',\n",
       " 'imag',\n",
       " 'numerator',\n",
       " 'real',\n",
       " 'to_bytes']"
      ]
     },
     "execution_count": 12,
     "metadata": {},
     "output_type": "execute_result"
    }
   ],
   "source": [
    " dir(3)"
   ]
  },
  {
   "cell_type": "markdown",
   "metadata": {},
   "source": [
    "La expresión anterior regresa el listado del espacio de nombres del objeto tipo _int_ con valor de 3. \n",
    "Todos esos contenidos fueron adquiridos por el objeto al ser instanciado de _int_.\n",
    "\n",
    "Cabe recordar que cuando se ejectua _dir()_ sin parámetros, la función regresa el listado de nombres del espacio de nombres principal.\n",
    "\n",
    "### Atributos y métodos especiales.\n",
    "\n",
    "Por convención, los atributos y métodos que empiezan y terminan con dobles guiones bajos \"*\\_\\_*\" son considerados como especiales y tienen que ver con las catacterísticas primordiales del tipo de dato al que pertenecen.\n",
    "\n",
    "\n",
    "## Ejemplo del proceso de análisis y gestión de objetos por parte del intérprete de Python.\n",
    "\n",
    "A continuación se describe de forma simplificada la forma en la que el intérprete de Python ejecuta la siguiente expresión:"
   ]
  },
  {
   "cell_type": "code",
   "execution_count": null,
   "metadata": {
    "collapsed": true
   },
   "outputs": [],
   "source": [
    "\"Hola\" * 3"
   ]
  },
  {
   "cell_type": "markdown",
   "metadata": {},
   "source": [
    "1. El intérprete evalúa la expresión.\n",
    "2. El intérprete detecta que la sintaxis de _\"Hola\"_ corresponde a un objeto de tipo _str_ y confiere las propiedades del tipo al objeto. \n",
    "3. Se identifica al operador de multiplicación ( _\\*_ ).\n",
    "4. El intérprete detecta que la sintaxis de _3_ corresponde a un objeto de tipo _int_ y  confiere las propiedades del tipo al objeto.\n",
    "5. El operador de multiplicación siempre es relacionado por el intérprete al método *\\_\\_mul\\_\\_()*. El intérprete debe de encontrar en cada objeto un método que sea compatible con la operación que se realiza.\n",
    "6. Al encontrar un método compatible, éste es ejecutado. En este caso, se ejecuta el método *\\_\\_mul\\_\\_()* pertenenciente a _'Hola'_ y que fue instanciado del tipo _str_, utilizando al _3_ como parámetro:"
   ]
  },
  {
   "cell_type": "code",
   "execution_count": 13,
   "metadata": {},
   "outputs": [
    {
     "data": {
      "text/plain": [
       "'HolaHolaHola'"
      ]
     },
     "execution_count": 13,
     "metadata": {},
     "output_type": "execute_result"
    }
   ],
   "source": [
    "\"Hola\".__mul__(3)\n"
   ]
  },
  {
   "cell_type": "markdown",
   "metadata": {},
   "source": [
    "7. La ejecución del método en cuestión da por resultado al nuevo objeto _'HolaHolaHola'_ el cual es de tipo _str_. \n",
    "8. En vista de que el objeto _'HolaHolaHola'_ no se ha relacionado a un nombre mediante el operador de asignación \"_=_\", éste es desechado por el intérprete.\n",
    "\n",
    "### Polimorfismo.\n",
    "\n",
    "El método *\\_\\_mul\\_\\_()* de los objetos tipo _int_ no es compatible con objetos tipo _str_.\n"
   ]
  },
  {
   "cell_type": "code",
   "execution_count": 14,
   "metadata": {},
   "outputs": [
    {
     "data": {
      "text/plain": [
       "NotImplemented"
      ]
     },
     "execution_count": 14,
     "metadata": {},
     "output_type": "execute_result"
    }
   ],
   "source": [
    "(3).__mul__(\"Hola\")"
   ]
  },
  {
   "cell_type": "markdown",
   "metadata": {},
   "source": [
    "Sin embargo, como ya se mencionó, el método *\\_\\_mul\\_\\_()* de los objetos tipo _str_ sí es compatible. Así que sin importar el orden en el que se ingrese la expresión, Python utilizará el método que sea compatible. "
   ]
  },
  {
   "cell_type": "code",
   "execution_count": 15,
   "metadata": {},
   "outputs": [
    {
     "data": {
      "text/plain": [
       "'HolaHolaHola'"
      ]
     },
     "execution_count": 15,
     "metadata": {},
     "output_type": "execute_result"
    }
   ],
   "source": [
    "\"Hola\" * 3"
   ]
  },
  {
   "cell_type": "code",
   "execution_count": 16,
   "metadata": {},
   "outputs": [
    {
     "data": {
      "text/plain": [
       "'HolaHolaHola'"
      ]
     },
     "execution_count": 16,
     "metadata": {},
     "output_type": "execute_result"
    }
   ],
   "source": [
    "3 * \"Hola\""
   ]
  },
  {
   "cell_type": "markdown",
   "metadata": {},
   "source": [
    "En caso de no encontrar un método compatible, el intérprete marcará un _error de tipo_, tal como ocurre cuando se utiliza el operador de multiplicación con un objeto tipo _str_ y un objeto tipo _complex_:"
   ]
  },
  {
   "cell_type": "code",
   "execution_count": 17,
   "metadata": {},
   "outputs": [
    {
     "ename": "TypeError",
     "evalue": "can't multiply sequence by non-int of type 'complex'",
     "output_type": "error",
     "traceback": [
      "\u001b[0;31m---------------------------------------------------------------------------\u001b[0m",
      "\u001b[0;31mTypeError\u001b[0m                                 Traceback (most recent call last)",
      "\u001b[0;32m<ipython-input-17-2e33578aedf8>\u001b[0m in \u001b[0;36m<module>\u001b[0;34m()\u001b[0m\n\u001b[0;32m----> 1\u001b[0;31m \u001b[0;34m\"Hola\"\u001b[0m \u001b[0;34m*\u001b[0m \u001b[0;36m4j\u001b[0m\u001b[0;34m\u001b[0m\u001b[0m\n\u001b[0m",
      "\u001b[0;31mTypeError\u001b[0m: can't multiply sequence by non-int of type 'complex'"
     ]
    }
   ],
   "source": [
    "\"Hola\" * 4j"
   ]
  },
  {
   "cell_type": "markdown",
   "metadata": {},
   "source": [
    "## La función _help()_\n",
    "\n",
    "Python es puede ofrecer información al usuario mediante un proceso llamado \"Introspección\", el cual es capaz de analizar al objeto y a partir de su estructura y comentarios del código, generar documentación.\n",
    "\n",
    "La función _help()_ despliega la información sobre la estructura y documentación de un objeto en el entorno interactivo mediante la siguiente sintaxis:\n",
    "\n",
    "```\n",
    "help(<objeto>)\n",
    "```\n",
    "\n",
    "La función _help()_ también despliega algunos otros datos a partir de ciertas palabras clave en  formato de cadena de texto como _\"keywords\"_, _\"modules\"_, _\"topics\"_, etc. Si se usa _help()_ con un objeto de tipo _str_ no coincida con alguna palabra clave como las mencionadas, se generará un error.\n",
    "\n",
    "**Ejemplo:**"
   ]
  },
  {
   "cell_type": "code",
   "execution_count": 20,
   "metadata": {},
   "outputs": [
    {
     "name": "stdout",
     "output_type": "stream",
     "text": [
      "No Python documentation found for 'hola'.\n",
      "Use help() to get the interactive help utility.\n",
      "Use help(str) for help on the str class.\n",
      "\n"
     ]
    }
   ],
   "source": [
    "help(\"hola\")"
   ]
  },
  {
   "cell_type": "markdown",
   "metadata": {},
   "source": [
    "### Navegación dentro de la ventana de ayuda.\n",
    "\n",
    "Debido a que el contenido desplegado por _help()_ generalmente se extiende más allá de la capacidad de la pantalla, el entorno interactivo cambia a un modo de lectura en el cual uno se puede trasladar a lo largo del texto de ayuda con las teclas de __&lt;Arriba&gt;__, __&lt;Abajo&gt;__, __&lt;AvPág&gt;__, __&lt;RePág&gt;__, __&lt;Inicio&gt;__ y __&lt;Fin&gt;__.\n",
    "\n",
    "Para salir del modo de lectura sólo es necesario ingresar la tecla __&lt;q&gt;__."
   ]
  },
  {
   "cell_type": "markdown",
   "metadata": {},
   "source": [
    "<p style=\"text-align: center\"><a rel=\"license\" href=\"http://creativecommons.org/licenses/by/4.0/\"><img alt=\"Licencia Creative Commons\" style=\"border-width:0\" src=\"https://i.creativecommons.org/l/by/4.0/80x15.png\" /></a><br />Esta obra está bajo una <a rel=\"license\" href=\"http://creativecommons.org/licenses/by/4.0/\">Licencia Creative Commons Atribución 4.0 Internacional</a>.</p>\n",
    "<p style=\"text-align: center\">&copy; José Luis Chiquete Valdivieso. 2017.</p>"
   ]
  }
 ],
 "metadata": {
  "kernelspec": {
   "display_name": "Python 3",
   "language": "python",
   "name": "python3"
  },
  "language_info": {
   "codemirror_mode": {
    "name": "ipython",
    "version": 3
   },
   "file_extension": ".py",
   "mimetype": "text/x-python",
   "name": "python",
   "nbconvert_exporter": "python",
   "pygments_lexer": "ipython3",
   "version": "3.6.2"
  }
 },
 "nbformat": 4,
 "nbformat_minor": 1
}
